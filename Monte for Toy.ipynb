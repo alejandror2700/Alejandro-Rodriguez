{
 "cells": [
  {
   "cell_type": "code",
   "execution_count": 1,
   "id": "8ce47de6",
   "metadata": {},
   "outputs": [],
   "source": [
    "import matplotlib.pyplot as plt\n",
    "import numpy as np\n",
    "\n",
    "import random"
   ]
  },
  {
   "cell_type": "code",
   "execution_count": 2,
   "id": "523515d4",
   "metadata": {},
   "outputs": [],
   "source": [
    "p=1\n",
    "\n",
    "mu1=p\n",
    "sigma1=1\n",
    "mu2=100*p\n",
    "sigma2=1\n",
    "prob1=0.9\n",
    "\n",
    "rdata=[]\n",
    "\n",
    "exp = 10\n"
   ]
  },
  {
   "cell_type": "code",
   "execution_count": 3,
   "id": "8a9012e3",
   "metadata": {},
   "outputs": [],
   "source": [
    "def mixed_distro(mu1,sigma1,mu2,sigma2, prob1):\n",
    "    if random.uniform(0,1) < prob1:\n",
    "        return random.gauss(mu1,sigma1)\n",
    "    else:\n",
    "        return random.gauss(mu2,sigma2)"
   ]
  },
  {
   "cell_type": "code",
   "execution_count": 4,
   "id": "a11d39d8",
   "metadata": {},
   "outputs": [],
   "source": [
    "def monte(mu1,sigma1,mu2,sigma2, prob1):\n",
    "    for i in range(1000):\n",
    "        rdata.append(mixed_distro(mu1,sigma1,mu2,sigma2, prob1))\n",
    "    plt.hist(rdata)\n",
    "    plt.show"
   ]
  },
  {
   "cell_type": "code",
   "execution_count": 5,
   "id": "6375048b",
   "metadata": {},
   "outputs": [],
   "source": [
    "def num_exp(exp):\n",
    "    results=[]\n",
    "    for i in range(exp):\n",
    "        results.append(monte(mu1,sigma1,mu2,sigma2, prob1))\n",
    "    return results"
   ]
  },
  {
   "cell_type": "code",
   "execution_count": 6,
   "id": "bdd9f933",
   "metadata": {},
   "outputs": [
    {
     "data": {
      "text/plain": [
       "[None, None, None, None, None, None, None, None, None, None]"
      ]
     },
     "execution_count": 6,
     "metadata": {},
     "output_type": "execute_result"
    },
    {
     "data": {
      "image/png": "[encoded data removed]",
      "text/plain": [
       "<Figure size 432x288 with 1 Axes>"
      ]
     },
     "metadata": {
      "needs_background": "light"
     },
     "output_type": "display_data"
    }
   ],
   "source": [
    "num_exp(exp)"
   ]
  },
  {
   "cell_type": "code",
   "execution_count": 10,
   "id": "fa009951",
   "metadata": {},
   "outputs": [
    {
     "ename": "SyntaxError",
     "evalue": "invalid syntax (<ipython-input-10-baac57be9a0f>, line 4)",
     "output_type": "error",
     "traceback": [
      "\u001b[1;36m  File \u001b[1;32m\"<ipython-input-10-baac57be9a0f>\"\u001b[1;36m, line \u001b[1;32m4\u001b[0m\n\u001b[1;33m    if null=monte(mu1,sigma1,mu2,sigma2, prob1):\u001b[0m\n\u001b[1;37m           ^\u001b[0m\n\u001b[1;31mSyntaxError\u001b[0m\u001b[1;31m:\u001b[0m invalid syntax\n"
     ]
    }
   ],
   "source": [
    "def hypo_test(noise,sig_low,sig_high,p_high,sigma):\n",
    "    null = monte(noise,sigma,0,0,0)\n",
    "    alternate = monte(noise+sig_low,sigma,noise+sig_high,p_high)\n",
    "    if null = monte(mu1,sigma1,mu2,sigma2, prob1):\n",
    "        return print(\"No signal\")\n",
    "    else if alternate = monte(mu1,sigma1,mu2,sigma2, prob1)\n",
    "        return print(\"A signal\")"
   ]
  },
  {
   "cell_type": "code",
   "execution_count": null,
   "id": "34b31650",
   "metadata": {},
   "outputs": [],
   "source": []
  }
 ],
 "metadata": {
  "kernelspec": {
   "display_name": "Python 3",
   "language": "python",
   "name": "python3"
  },
  "language_info": {
   "codemirror_mode": {
    "name": "ipython",
    "version": 3
   },
   "file_extension": ".py",
   "mimetype": "text/x-python",
   "name": "python",
   "nbconvert_exporter": "python",
   "pygments_lexer": "ipython3",
   "version": "3.8.8"
  }
 },
 "nbformat": 4,
 "nbformat_minor": 5
}
